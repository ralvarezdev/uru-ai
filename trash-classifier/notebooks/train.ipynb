{
 "nbformat": 4,
 "nbformat_minor": 0,
 "metadata": {
  "colab": {
   "provenance": [],
   "toc_visible": true,
   "gpuType": "T4"
  },
  "kernelspec": {
   "name": "python3",
   "display_name": "Python 3"
  },
  "language_info": {
   "name": "python"
  },
  "accelerator": "GPU"
 },
 "cells": [
  {
   "cell_type": "code",
   "metadata": {
    "colab": {
     "base_uri": "https://localhost:8080/"
    },
    "id": "XLkmHs4DWRFB",
    "outputId": "3257a442-06f4-47e5-ece8-23d3584eb0a9"
   },
   "source": [
    "from google.colab import drive\n",
    "\n",
    "drive.mount('/content/drive')"
   ],
   "outputs": [],
   "execution_count": null
  },
  {
   "metadata": {},
   "cell_type": "code",
   "outputs": [],
   "execution_count": null,
   "source": [
    "import os\n",
    "\n",
    "os.chdir(f'/content/drive/MyDrive/Colab Files/trash-classifier')"
   ]
  },
  {
   "cell_type": "code",
   "source": [
    "!pip install ultralytics"
   ],
   "metadata": {
    "colab": {
     "base_uri": "https://localhost:8080/"
    },
    "id": "LFrU7BsAJWqW",
    "outputId": "edd1a1b6-f0d6-4cff-da80-da7d02645bb4"
   },
   "outputs": [],
   "execution_count": null
  },
  {
   "metadata": {},
   "cell_type": "code",
   "outputs": [],
   "execution_count": null,
   "source": [
    "from ultralytics import YOLO\n",
    "\n",
    "# Load the model\n",
    "model = YOLO('yolo11n-cls.pt', verbose=True)\n",
    "\n",
    "# Train the model\n",
    "model.train(\n",
    "    data='./data/data.yaml',\n",
    "    epochs=100,\n",
    "    imgsz=640,\n",
    "    device='0',\n",
    "    project='trash-classifier',\n",
    "    name='trash-classifier',\n",
    ")"
   ]
  }
 ]
}
